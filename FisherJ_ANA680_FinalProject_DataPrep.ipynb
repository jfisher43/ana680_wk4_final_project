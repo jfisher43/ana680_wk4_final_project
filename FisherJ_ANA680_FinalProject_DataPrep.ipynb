{
 "cells": [
  {
   "cell_type": "markdown",
   "metadata": {},
   "source": [
    "James Fisher\n",
    "9/1/2024\n",
    "ANA680\n",
    "\n",
    "Final Project: Predicting Medicare Provider Use of Annual Wellness Visits\n",
    "\n",
    "To predict provider decile of using Annual Wellness Visits compared to all other individual providers across all 50 U.S. states who directly billed Medicare in 2022 and for whom credential type, rural-urban coding, and preventive care data were available in the CMS Public Use File for calendar year 2022 available from https://data.cms.gov/provider-summary-by-type-of-service/medicare-physician-other-practitioners. Two source files were pulled from this location and a composite dataframe created with variables of interested. For model creation, see FisherJ_ANA680_FinalProject_ModelBuild.ipynb"
   ]
  }
 ],
 "metadata": {
  "language_info": {
   "name": "python"
  }
 },
 "nbformat": 4,
 "nbformat_minor": 2
}
