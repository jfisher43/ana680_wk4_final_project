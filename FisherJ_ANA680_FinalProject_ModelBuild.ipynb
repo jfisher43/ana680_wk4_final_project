{
 "cells": [
  {
   "cell_type": "markdown",
   "metadata": {},
   "source": [
    "James Fisher\n",
    "9/1/2024\n",
    "ANA680\n",
    "\n",
    "Final Project: Predicting Medicare Provider Use of Annual Wellness Visits\n",
    "\n",
    "To predict provider decile of using Annual Wellness Visits compared to all other individual providers across all 50 U.S. states who directly billed Medicare in 2022 and for whom credential type, rural-urban coding, and preventive care data were available in the CMS Public Use File for calendar year 2022 available from https://data.cms.gov/provider-summary-by-type-of-service/medicare-physician-other-practitioners. Two source files were pulled from this location and a composite dataframe created with variables of interested (see FisherJ_ANA680_FinalProject_DataPrep.ipynb).\n",
    "\n",
    "Machine learning is ideal for this task, because of the \n",
    "\n",
    "In this Notebook, I construct, fine tune, and assess the final model."
   ]
  },
  {
   "cell_type": "code",
   "execution_count": 20,
   "metadata": {},
   "outputs": [],
   "source": [
    "#import libraries\n",
    "import pandas as pd\n",
    "import numpy as np\n",
    "from sklearn.preprocessing import StandardScaler, LabelEncoder\n",
    "from sklearn.ensemble import RandomForestClassifier\n",
    "from sklearn.metrics import accuracy_score as accuracy\n",
    "from sklearn.metrics import confusion_matrix\n",
    "from sklearn.model_selection import GridSearchCV\n",
    "import pickle as pkl\n",
    "\n"
   ]
  },
  {
   "cell_type": "code",
   "execution_count": 4,
   "metadata": {},
   "outputs": [],
   "source": [
    "#import data\n",
    "data = pd.read_csv('C:/Users/unkno/Desktop/MS Data Science/Class 9 - ANA680/Week 4/fp/prepared_data.csv')\n",
    "\n",
    "##temporary\n",
    "#drop rows where Rndrng_Prvdr_State_Abrvtn is 'PR', 'GU', 'VI', 'MP', 'AS', 'MH', 'PW', 'FM', 'AS', 'DC' because these are not US states\n",
    "data = data[~data.Rndrng_Prvdr_State_Abrvtn.isin(['PR', 'GU', 'VI', 'MP', 'AS', 'MH', 'PW', 'FM', 'AS', 'DC', 'AA', 'AE', 'AP', 'XX', 'ZZ'])]\n"
   ]
  },
  {
   "cell_type": "code",
   "execution_count": 5,
   "metadata": {},
   "outputs": [
    {
     "name": "stdout",
     "output_type": "stream",
     "text": [
      "Index(['Rndrng_NPI', 'Rndrng_Prvdr_Gndr', 'Rndrng_Prvdr_RUCA',\n",
      "       'Rndrng_Prvdr_State_Abrvtn', 'Tot_HCPCS_Cds', 'Tot_Benes', 'Tot_Srvcs',\n",
      "       'Tot_Sbmtd_Chrg', 'Tot_Mdcr_Pymt_Amt', 'Drug_Tot_HCPCS_Cds',\n",
      "       'Drug_Sbmtd_Chrg', 'Drug_Mdcr_Pymt_Amt', 'Med_Tot_Benes',\n",
      "       'Med_Tot_Srvcs', 'Bene_Avg_Age', 'Bene_Age_LT_65_Cnt',\n",
      "       'Bene_Age_65_74_Cnt', 'Bene_Age_75_84_Cnt', 'Bene_Age_GT_84_Cnt',\n",
      "       'Bene_Feml_Cnt', 'Bene_Male_Cnt', 'Bene_Dual_Cnt', 'Bene_Ndual_Cnt',\n",
      "       'Bene_CC_BH_Anxiety_V1_Pct', 'Bene_CC_BH_Mood_V2_Pct',\n",
      "       'Bene_CC_PH_Asthma_V2_Pct', 'Bene_CC_PH_Afib_V2_Pct',\n",
      "       'Bene_CC_PH_Cancer6_V2_Pct', 'Bene_CC_PH_CKD_V2_Pct',\n",
      "       'Bene_CC_PH_COPD_V2_Pct', 'Bene_CC_PH_Diabetes_V2_Pct',\n",
      "       'Bene_CC_PH_HF_NonIHD_V2_Pct', 'Bene_CC_PH_Hyperlipidemia_V2_Pct',\n",
      "       'Bene_CC_PH_Hypertension_V2_Pct', 'Bene_CC_PH_IschemicHeart_V2_Pct',\n",
      "       'Bene_CC_PH_Arthritis_V2_Pct', 'Bene_Avg_Risk_Scre', 'Bene_Pct_DELIS',\n",
      "       'has_MD', 'has_DO', 'is_NP', 'is_PA', 'flag_not_MD_DO_NP_PA',\n",
      "       'total_flu_vaccines', 'total_pneumo_vaccines', 'total_hepB_vaccines',\n",
      "       'total_tetanus_vaccines', 'total_awv', 'total_mammographies',\n",
      "       'total_crc_screenings', 'total_prostate_screenings'],\n",
      "      dtype='object')\n",
      "   Rndrng_NPI  Rndrng_Prvdr_Gndr  Rndrng_Prvdr_RUCA Rndrng_Prvdr_State_Abrvtn  \\\n",
      "0  1003000126                  0                1.0                        MD   \n",
      "1  1003000134                  0                1.0                        IL   \n",
      "2  1003000142                  0                1.0                        OH   \n",
      "3  1003000480                  0                1.0                        CO   \n",
      "4  1003000530                  1                1.0                        PA   \n",
      "\n",
      "   Tot_HCPCS_Cds  Tot_Benes  Tot_Srvcs  Tot_Sbmtd_Chrg  Tot_Mdcr_Pymt_Amt  \\\n",
      "0             22        420      881.0       324882.56           70983.92   \n",
      "1             19       2938     6809.0      1031724.00          176263.09   \n",
      "2             60        405     1912.0       424337.85          132610.88   \n",
      "3             37        120      194.0       257176.75           34818.87   \n",
      "4             33        355     1265.0       226234.00          117175.95   \n",
      "\n",
      "   Drug_Tot_HCPCS_Cds  ...  is_PA  flag_not_MD_DO_NP_PA  total_flu_vaccines  \\\n",
      "0                 0.0  ...      0                 False                 0.0   \n",
      "1                 0.0  ...      0                 False                 0.0   \n",
      "2                 6.0  ...      0                 False                 0.0   \n",
      "3                 0.0  ...      0                 False                 0.0   \n",
      "4                 7.0  ...      0                 False                70.0   \n",
      "\n",
      "   total_pneumo_vaccines  total_hepB_vaccines  total_tetanus_vaccines  \\\n",
      "0                    0.0                  0.0                     0.0   \n",
      "1                    0.0                  0.0                     0.0   \n",
      "2                    0.0                  0.0                     0.0   \n",
      "3                    0.0                  0.0                     0.0   \n",
      "4                    0.0                  0.0                     0.0   \n",
      "\n",
      "   total_awv  total_mammographies  total_crc_screenings  \\\n",
      "0        0.0                  0.0                   0.0   \n",
      "1        0.0                  0.0                   0.0   \n",
      "2        0.0                  0.0                   0.0   \n",
      "3        0.0                  0.0                   0.0   \n",
      "4      199.0                  0.0                   0.0   \n",
      "\n",
      "   total_prostate_screenings  \n",
      "0                        0.0  \n",
      "1                        0.0  \n",
      "2                        0.0  \n",
      "3                        0.0  \n",
      "4                        0.0  \n",
      "\n",
      "[5 rows x 51 columns]\n"
     ]
    }
   ],
   "source": [
    "#recode so that M = 0 and F = 1 for Rndrng_Prvdr_Gndr (provider gender)\n",
    "data['Rndrng_Prvdr_Gndr'] = data['Rndrng_Prvdr_Gndr'].replace('M', 0)\n",
    "data['Rndrng_Prvdr_Gndr'] = data['Rndrng_Prvdr_Gndr'].replace('F', 1)\n",
    "\n",
    "#replace NaN values with 0 (no services rendered, values were NaN on import because they were blank in the original data)\n",
    "data.fillna(0, inplace=True)\n",
    "\n",
    "#print columns\n",
    "print(data.columns)\n",
    "\n",
    "#print head\n",
    "print(data.head())"
   ]
  },
  {
   "cell_type": "code",
   "execution_count": 6,
   "metadata": {},
   "outputs": [],
   "source": [
    "#split data into target and features\n",
    "from sklearn.model_selection import train_test_split\n",
    "X = data.drop('Rndrng_Prvdr_Gndr', axis=1)\n",
    "y = data['Rndrng_Prvdr_Gndr']\n",
    "\n",
    "#drop primary key of dataset\n",
    "X = X.drop('Rndrng_NPI', axis=1)\n",
    "\n",
    "#flatten y into a 1D array\n",
    "y = y.to_numpy().ravel()\n",
    "\n",
    "#split data into training and testing\n",
    "X_train, X_test, y_train, y_test = train_test_split(X, y, test_size=0.2, random_state=66)"
   ]
  },
  {
   "cell_type": "code",
   "execution_count": 7,
   "metadata": {},
   "outputs": [],
   "source": [
    "##FEATURE VARIABLE ENCODING & SCALING\n",
    "\n",
    "#identify continuous and categorical variables in joined dataset\n",
    "continuous_features = ['Tot_HCPCS_Cds', 'Tot_Benes', 'Tot_Srvcs', 'Tot_Sbmtd_Chrg', 'Tot_Mdcr_Pymt_Amt', 'Drug_Tot_HCPCS_Cds', 'Drug_Sbmtd_Chrg', 'Drug_Mdcr_Pymt_Amt',\n",
    "             'Med_Tot_Benes', 'Med_Tot_Srvcs', 'Bene_Avg_Age', 'Bene_Age_LT_65_Cnt', 'Bene_Age_65_74_Cnt', 'Bene_Age_75_84_Cnt', 'Bene_Age_GT_84_Cnt', 'Bene_Feml_Cnt', \n",
    "             'Bene_Male_Cnt', 'Bene_Dual_Cnt', 'Bene_Ndual_Cnt', 'Bene_CC_BH_Anxiety_V1_Pct', 'Bene_CC_BH_Mood_V2_Pct', 'Bene_CC_PH_Asthma_V2_Pct', 'Bene_CC_PH_Hyperlipidemia_V2_Pct', \n",
    "             'Bene_CC_PH_Afib_V2_Pct', 'Bene_CC_PH_Cancer6_V2_Pct', 'Bene_CC_PH_CKD_V2_Pct', 'Bene_CC_PH_COPD_V2_Pct', 'Bene_CC_PH_Diabetes_V2_Pct', 'Bene_CC_PH_HF_NonIHD_V2_Pct',\n",
    "             'Bene_CC_PH_Hypertension_V2_Pct', 'Bene_CC_PH_IschemicHeart_V2_Pct', 'Bene_CC_PH_Arthritis_V2_Pct', 'Bene_Avg_Risk_Scre', 'Bene_Pct_DELIS', 'total_flu_vaccines', \n",
    "             'total_pneumo_vaccines', 'total_hepB_vaccines', 'total_tetanus_vaccines', 'total_awv', 'total_mammographies', 'total_crc_screenings',\n",
    "             'total_prostate_screenings']\n",
    "categorical_features = ['Rndrng_Prvdr_RUCA', 'Rndrng_Prvdr_State_Abrvtn', 'has_MD', 'has_DO', 'is_NP', 'is_PA', 'flag_not_MD_DO_NP_PA']\n",
    "#'Rndrng_Prvdr_Gndr' (categorical) is target variable\n",
    "\n",
    "#initialize scaler and encoder\n",
    "scaler = StandardScaler()\n",
    "label_encoders = {feature: LabelEncoder() for feature in categorical_features}\n",
    "\n",
    "#scale continuous features\n",
    "X_train_continuous = scaler.fit_transform(X_train[continuous_features])\n",
    "X_test_continuous = scaler.transform(X_test[continuous_features])\n",
    "\n",
    "#encode categorical features\n",
    "X_train_categorical = X_train[categorical_features].copy()\n",
    "X_test_categorical = X_test[categorical_features].copy()\n",
    "\n",
    "for feature in categorical_features:\n",
    "    X_train_categorical[feature] = label_encoders[feature].fit_transform(X_train[feature])\n",
    "    X_test_categorical[feature] = label_encoders[feature].transform(X_test[feature])\n",
    "\n",
    "#concatenate processed continuous and categorical features back together\n",
    "X_train_processed = pd.concat([pd.DataFrame(X_train_continuous, columns=continuous_features),\n",
    "                               X_train_categorical.reset_index(drop=True)], axis=1)\n",
    "\n",
    "X_test_processed = pd.concat([pd.DataFrame(X_test_continuous, columns=continuous_features),\n",
    "                              X_test_categorical.reset_index(drop=True)], axis=1)\n"
   ]
  },
  {
   "cell_type": "code",
   "execution_count": 8,
   "metadata": {},
   "outputs": [
    {
     "name": "stdout",
     "output_type": "stream",
     "text": [
      "(652295, 49)\n",
      "(163074, 49)\n",
      "(652295,)\n",
      "(163074,)\n"
     ]
    }
   ],
   "source": [
    "#compare number of columns in training and testing data\n",
    "print(X_train.shape)\n",
    "print(X_test.shape)\n",
    "print(y_train.shape)\n",
    "print(y_test.shape)\n"
   ]
  },
  {
   "cell_type": "code",
   "execution_count": 11,
   "metadata": {},
   "outputs": [
    {
     "data": {
      "text/html": [
       "<style>#sk-container-id-1 {color: black;}#sk-container-id-1 pre{padding: 0;}#sk-container-id-1 div.sk-toggleable {background-color: white;}#sk-container-id-1 label.sk-toggleable__label {cursor: pointer;display: block;width: 100%;margin-bottom: 0;padding: 0.3em;box-sizing: border-box;text-align: center;}#sk-container-id-1 label.sk-toggleable__label-arrow:before {content: \"▸\";float: left;margin-right: 0.25em;color: #696969;}#sk-container-id-1 label.sk-toggleable__label-arrow:hover:before {color: black;}#sk-container-id-1 div.sk-estimator:hover label.sk-toggleable__label-arrow:before {color: black;}#sk-container-id-1 div.sk-toggleable__content {max-height: 0;max-width: 0;overflow: hidden;text-align: left;background-color: #f0f8ff;}#sk-container-id-1 div.sk-toggleable__content pre {margin: 0.2em;color: black;border-radius: 0.25em;background-color: #f0f8ff;}#sk-container-id-1 input.sk-toggleable__control:checked~div.sk-toggleable__content {max-height: 200px;max-width: 100%;overflow: auto;}#sk-container-id-1 input.sk-toggleable__control:checked~label.sk-toggleable__label-arrow:before {content: \"▾\";}#sk-container-id-1 div.sk-estimator input.sk-toggleable__control:checked~label.sk-toggleable__label {background-color: #d4ebff;}#sk-container-id-1 div.sk-label input.sk-toggleable__control:checked~label.sk-toggleable__label {background-color: #d4ebff;}#sk-container-id-1 input.sk-hidden--visually {border: 0;clip: rect(1px 1px 1px 1px);clip: rect(1px, 1px, 1px, 1px);height: 1px;margin: -1px;overflow: hidden;padding: 0;position: absolute;width: 1px;}#sk-container-id-1 div.sk-estimator {font-family: monospace;background-color: #f0f8ff;border: 1px dotted black;border-radius: 0.25em;box-sizing: border-box;margin-bottom: 0.5em;}#sk-container-id-1 div.sk-estimator:hover {background-color: #d4ebff;}#sk-container-id-1 div.sk-parallel-item::after {content: \"\";width: 100%;border-bottom: 1px solid gray;flex-grow: 1;}#sk-container-id-1 div.sk-label:hover label.sk-toggleable__label {background-color: #d4ebff;}#sk-container-id-1 div.sk-serial::before {content: \"\";position: absolute;border-left: 1px solid gray;box-sizing: border-box;top: 0;bottom: 0;left: 50%;z-index: 0;}#sk-container-id-1 div.sk-serial {display: flex;flex-direction: column;align-items: center;background-color: white;padding-right: 0.2em;padding-left: 0.2em;position: relative;}#sk-container-id-1 div.sk-item {position: relative;z-index: 1;}#sk-container-id-1 div.sk-parallel {display: flex;align-items: stretch;justify-content: center;background-color: white;position: relative;}#sk-container-id-1 div.sk-item::before, #sk-container-id-1 div.sk-parallel-item::before {content: \"\";position: absolute;border-left: 1px solid gray;box-sizing: border-box;top: 0;bottom: 0;left: 50%;z-index: -1;}#sk-container-id-1 div.sk-parallel-item {display: flex;flex-direction: column;z-index: 1;position: relative;background-color: white;}#sk-container-id-1 div.sk-parallel-item:first-child::after {align-self: flex-end;width: 50%;}#sk-container-id-1 div.sk-parallel-item:last-child::after {align-self: flex-start;width: 50%;}#sk-container-id-1 div.sk-parallel-item:only-child::after {width: 0;}#sk-container-id-1 div.sk-dashed-wrapped {border: 1px dashed gray;margin: 0 0.4em 0.5em 0.4em;box-sizing: border-box;padding-bottom: 0.4em;background-color: white;}#sk-container-id-1 div.sk-label label {font-family: monospace;font-weight: bold;display: inline-block;line-height: 1.2em;}#sk-container-id-1 div.sk-label-container {text-align: center;}#sk-container-id-1 div.sk-container {/* jupyter's `normalize.less` sets `[hidden] { display: none; }` but bootstrap.min.css set `[hidden] { display: none !important; }` so we also need the `!important` here to be able to override the default hidden behavior on the sphinx rendered scikit-learn.org. See: https://github.com/scikit-learn/scikit-learn/issues/21755 */display: inline-block !important;position: relative;}#sk-container-id-1 div.sk-text-repr-fallback {display: none;}</style><div id=\"sk-container-id-1\" class=\"sk-top-container\"><div class=\"sk-text-repr-fallback\"><pre>RandomForestClassifier(n_jobs=-1, random_state=66)</pre><b>In a Jupyter environment, please rerun this cell to show the HTML representation or trust the notebook. <br />On GitHub, the HTML representation is unable to render, please try loading this page with nbviewer.org.</b></div><div class=\"sk-container\" hidden><div class=\"sk-item\"><div class=\"sk-estimator sk-toggleable\"><input class=\"sk-toggleable__control sk-hidden--visually\" id=\"sk-estimator-id-1\" type=\"checkbox\" checked><label for=\"sk-estimator-id-1\" class=\"sk-toggleable__label sk-toggleable__label-arrow\">RandomForestClassifier</label><div class=\"sk-toggleable__content\"><pre>RandomForestClassifier(n_jobs=-1, random_state=66)</pre></div></div></div></div></div>"
      ],
      "text/plain": [
       "RandomForestClassifier(n_jobs=-1, random_state=66)"
      ]
     },
     "execution_count": 11,
     "metadata": {},
     "output_type": "execute_result"
    }
   ],
   "source": [
    "#initialize and fit Random Forest model\n",
    "model = RandomForestClassifier(n_estimators=100, random_state=66, n_jobs=-1)\n",
    "model.fit(X_train_processed, y_train)"
   ]
  },
  {
   "cell_type": "code",
   "execution_count": 12,
   "metadata": {},
   "outputs": [
    {
     "name": "stdout",
     "output_type": "stream",
     "text": [
      "Accuracy: 0.7525785839557502\n",
      "[[74052 15580]\n",
      " [24768 48674]]\n"
     ]
    }
   ],
   "source": [
    "#predict on test data\n",
    "y_pred = model.predict(X_test_processed)\n",
    "\n",
    "#calculate accuracy\n",
    "acc = accuracy(y_test, y_pred)\n",
    "print(f'Accuracy: {acc}')\n",
    "\n",
    "#confusion matrix\n",
    "cm = confusion_matrix(y_test, y_pred)\n",
    "print(cm)"
   ]
  },
  {
   "cell_type": "code",
   "execution_count": 17,
   "metadata": {},
   "outputs": [
    {
     "name": "stdout",
     "output_type": "stream",
     "text": [
      "Selected Features:  Index(['Tot_Srvcs', 'Tot_Benes', 'Med_Tot_Benes', 'Med_Tot_Srvcs',\n",
      "       'Bene_Avg_Risk_Scre', 'has_MD', 'Bene_Feml_Cnt', 'Tot_HCPCS_Cds',\n",
      "       'Tot_Mdcr_Pymt_Amt', 'is_NP', 'Tot_Sbmtd_Chrg', 'Bene_Male_Cnt'],\n",
      "      dtype='object')\n"
     ]
    }
   ],
   "source": [
    "#get feature importances\n",
    "importances = model.feature_importances_\n",
    "\n",
    "#sort importances\n",
    "indices = np.argsort(importances)[::-1]\n",
    "\n",
    "# Select the top n features based on importance\n",
    "indices = np.argsort(importances)[-12:]  # Select top 8 features\n",
    "top_features = X_train_processed.columns[indices]\n",
    "\n",
    "# Transform the dataset to contain only the selected features\n",
    "X_train_top12 = X_train_processed[top_features]\n",
    "X_test_top12 = X_test_processed[top_features]\n",
    "\n",
    "print('Selected Features: ', top_features)"
   ]
  },
  {
   "cell_type": "code",
   "execution_count": 18,
   "metadata": {},
   "outputs": [
    {
     "data": {
      "text/html": [
       "<style>#sk-container-id-2 {color: black;}#sk-container-id-2 pre{padding: 0;}#sk-container-id-2 div.sk-toggleable {background-color: white;}#sk-container-id-2 label.sk-toggleable__label {cursor: pointer;display: block;width: 100%;margin-bottom: 0;padding: 0.3em;box-sizing: border-box;text-align: center;}#sk-container-id-2 label.sk-toggleable__label-arrow:before {content: \"▸\";float: left;margin-right: 0.25em;color: #696969;}#sk-container-id-2 label.sk-toggleable__label-arrow:hover:before {color: black;}#sk-container-id-2 div.sk-estimator:hover label.sk-toggleable__label-arrow:before {color: black;}#sk-container-id-2 div.sk-toggleable__content {max-height: 0;max-width: 0;overflow: hidden;text-align: left;background-color: #f0f8ff;}#sk-container-id-2 div.sk-toggleable__content pre {margin: 0.2em;color: black;border-radius: 0.25em;background-color: #f0f8ff;}#sk-container-id-2 input.sk-toggleable__control:checked~div.sk-toggleable__content {max-height: 200px;max-width: 100%;overflow: auto;}#sk-container-id-2 input.sk-toggleable__control:checked~label.sk-toggleable__label-arrow:before {content: \"▾\";}#sk-container-id-2 div.sk-estimator input.sk-toggleable__control:checked~label.sk-toggleable__label {background-color: #d4ebff;}#sk-container-id-2 div.sk-label input.sk-toggleable__control:checked~label.sk-toggleable__label {background-color: #d4ebff;}#sk-container-id-2 input.sk-hidden--visually {border: 0;clip: rect(1px 1px 1px 1px);clip: rect(1px, 1px, 1px, 1px);height: 1px;margin: -1px;overflow: hidden;padding: 0;position: absolute;width: 1px;}#sk-container-id-2 div.sk-estimator {font-family: monospace;background-color: #f0f8ff;border: 1px dotted black;border-radius: 0.25em;box-sizing: border-box;margin-bottom: 0.5em;}#sk-container-id-2 div.sk-estimator:hover {background-color: #d4ebff;}#sk-container-id-2 div.sk-parallel-item::after {content: \"\";width: 100%;border-bottom: 1px solid gray;flex-grow: 1;}#sk-container-id-2 div.sk-label:hover label.sk-toggleable__label {background-color: #d4ebff;}#sk-container-id-2 div.sk-serial::before {content: \"\";position: absolute;border-left: 1px solid gray;box-sizing: border-box;top: 0;bottom: 0;left: 50%;z-index: 0;}#sk-container-id-2 div.sk-serial {display: flex;flex-direction: column;align-items: center;background-color: white;padding-right: 0.2em;padding-left: 0.2em;position: relative;}#sk-container-id-2 div.sk-item {position: relative;z-index: 1;}#sk-container-id-2 div.sk-parallel {display: flex;align-items: stretch;justify-content: center;background-color: white;position: relative;}#sk-container-id-2 div.sk-item::before, #sk-container-id-2 div.sk-parallel-item::before {content: \"\";position: absolute;border-left: 1px solid gray;box-sizing: border-box;top: 0;bottom: 0;left: 50%;z-index: -1;}#sk-container-id-2 div.sk-parallel-item {display: flex;flex-direction: column;z-index: 1;position: relative;background-color: white;}#sk-container-id-2 div.sk-parallel-item:first-child::after {align-self: flex-end;width: 50%;}#sk-container-id-2 div.sk-parallel-item:last-child::after {align-self: flex-start;width: 50%;}#sk-container-id-2 div.sk-parallel-item:only-child::after {width: 0;}#sk-container-id-2 div.sk-dashed-wrapped {border: 1px dashed gray;margin: 0 0.4em 0.5em 0.4em;box-sizing: border-box;padding-bottom: 0.4em;background-color: white;}#sk-container-id-2 div.sk-label label {font-family: monospace;font-weight: bold;display: inline-block;line-height: 1.2em;}#sk-container-id-2 div.sk-label-container {text-align: center;}#sk-container-id-2 div.sk-container {/* jupyter's `normalize.less` sets `[hidden] { display: none; }` but bootstrap.min.css set `[hidden] { display: none !important; }` so we also need the `!important` here to be able to override the default hidden behavior on the sphinx rendered scikit-learn.org. See: https://github.com/scikit-learn/scikit-learn/issues/21755 */display: inline-block !important;position: relative;}#sk-container-id-2 div.sk-text-repr-fallback {display: none;}</style><div id=\"sk-container-id-2\" class=\"sk-top-container\"><div class=\"sk-text-repr-fallback\"><pre>RandomForestClassifier(n_jobs=-1, random_state=66)</pre><b>In a Jupyter environment, please rerun this cell to show the HTML representation or trust the notebook. <br />On GitHub, the HTML representation is unable to render, please try loading this page with nbviewer.org.</b></div><div class=\"sk-container\" hidden><div class=\"sk-item\"><div class=\"sk-estimator sk-toggleable\"><input class=\"sk-toggleable__control sk-hidden--visually\" id=\"sk-estimator-id-2\" type=\"checkbox\" checked><label for=\"sk-estimator-id-2\" class=\"sk-toggleable__label sk-toggleable__label-arrow\">RandomForestClassifier</label><div class=\"sk-toggleable__content\"><pre>RandomForestClassifier(n_jobs=-1, random_state=66)</pre></div></div></div></div></div>"
      ],
      "text/plain": [
       "RandomForestClassifier(n_jobs=-1, random_state=66)"
      ]
     },
     "execution_count": 18,
     "metadata": {},
     "output_type": "execute_result"
    }
   ],
   "source": [
    "#retrain model with top features\n",
    "model.fit(X_train_top12, y_train)"
   ]
  },
  {
   "cell_type": "code",
   "execution_count": 19,
   "metadata": {},
   "outputs": [
    {
     "name": "stdout",
     "output_type": "stream",
     "text": [
      "Accuracy: 0.7368127353226143\n",
      "[[71783 17849]\n",
      " [25070 48372]]\n"
     ]
    }
   ],
   "source": [
    "#predict on test data\n",
    "y_pred = model.predict(X_test_top12)\n",
    "\n",
    "#calculate accuracy\n",
    "acc = accuracy(y_test, y_pred)\n",
    "print(f'Accuracy: {acc}')\n",
    "\n",
    "#confusion matrix\n",
    "cm = confusion_matrix(y_test, y_pred)\n",
    "print(cm)"
   ]
  },
  {
   "cell_type": "markdown",
   "metadata": {},
   "source": [
    "Reducing number of predictive features from 49 to the top 12 only decreased predictive power by about 1.6% (75.3% to 73.7%) but made the model manageable. \n",
    "\n",
    "Only about 45% of the Medicare providers in the original data were female, so this predictive power is noteworthy.\n",
    "\n",
    "Time to tune the model."
   ]
  },
  {
   "cell_type": "code",
   "execution_count": 21,
   "metadata": {},
   "outputs": [
    {
     "name": "stdout",
     "output_type": "stream",
     "text": [
      "Fitting 3 folds for each of 108 candidates, totalling 324 fits\n"
     ]
    },
    {
     "data": {
      "text/html": [
       "<style>#sk-container-id-3 {color: black;}#sk-container-id-3 pre{padding: 0;}#sk-container-id-3 div.sk-toggleable {background-color: white;}#sk-container-id-3 label.sk-toggleable__label {cursor: pointer;display: block;width: 100%;margin-bottom: 0;padding: 0.3em;box-sizing: border-box;text-align: center;}#sk-container-id-3 label.sk-toggleable__label-arrow:before {content: \"▸\";float: left;margin-right: 0.25em;color: #696969;}#sk-container-id-3 label.sk-toggleable__label-arrow:hover:before {color: black;}#sk-container-id-3 div.sk-estimator:hover label.sk-toggleable__label-arrow:before {color: black;}#sk-container-id-3 div.sk-toggleable__content {max-height: 0;max-width: 0;overflow: hidden;text-align: left;background-color: #f0f8ff;}#sk-container-id-3 div.sk-toggleable__content pre {margin: 0.2em;color: black;border-radius: 0.25em;background-color: #f0f8ff;}#sk-container-id-3 input.sk-toggleable__control:checked~div.sk-toggleable__content {max-height: 200px;max-width: 100%;overflow: auto;}#sk-container-id-3 input.sk-toggleable__control:checked~label.sk-toggleable__label-arrow:before {content: \"▾\";}#sk-container-id-3 div.sk-estimator input.sk-toggleable__control:checked~label.sk-toggleable__label {background-color: #d4ebff;}#sk-container-id-3 div.sk-label input.sk-toggleable__control:checked~label.sk-toggleable__label {background-color: #d4ebff;}#sk-container-id-3 input.sk-hidden--visually {border: 0;clip: rect(1px 1px 1px 1px);clip: rect(1px, 1px, 1px, 1px);height: 1px;margin: -1px;overflow: hidden;padding: 0;position: absolute;width: 1px;}#sk-container-id-3 div.sk-estimator {font-family: monospace;background-color: #f0f8ff;border: 1px dotted black;border-radius: 0.25em;box-sizing: border-box;margin-bottom: 0.5em;}#sk-container-id-3 div.sk-estimator:hover {background-color: #d4ebff;}#sk-container-id-3 div.sk-parallel-item::after {content: \"\";width: 100%;border-bottom: 1px solid gray;flex-grow: 1;}#sk-container-id-3 div.sk-label:hover label.sk-toggleable__label {background-color: #d4ebff;}#sk-container-id-3 div.sk-serial::before {content: \"\";position: absolute;border-left: 1px solid gray;box-sizing: border-box;top: 0;bottom: 0;left: 50%;z-index: 0;}#sk-container-id-3 div.sk-serial {display: flex;flex-direction: column;align-items: center;background-color: white;padding-right: 0.2em;padding-left: 0.2em;position: relative;}#sk-container-id-3 div.sk-item {position: relative;z-index: 1;}#sk-container-id-3 div.sk-parallel {display: flex;align-items: stretch;justify-content: center;background-color: white;position: relative;}#sk-container-id-3 div.sk-item::before, #sk-container-id-3 div.sk-parallel-item::before {content: \"\";position: absolute;border-left: 1px solid gray;box-sizing: border-box;top: 0;bottom: 0;left: 50%;z-index: -1;}#sk-container-id-3 div.sk-parallel-item {display: flex;flex-direction: column;z-index: 1;position: relative;background-color: white;}#sk-container-id-3 div.sk-parallel-item:first-child::after {align-self: flex-end;width: 50%;}#sk-container-id-3 div.sk-parallel-item:last-child::after {align-self: flex-start;width: 50%;}#sk-container-id-3 div.sk-parallel-item:only-child::after {width: 0;}#sk-container-id-3 div.sk-dashed-wrapped {border: 1px dashed gray;margin: 0 0.4em 0.5em 0.4em;box-sizing: border-box;padding-bottom: 0.4em;background-color: white;}#sk-container-id-3 div.sk-label label {font-family: monospace;font-weight: bold;display: inline-block;line-height: 1.2em;}#sk-container-id-3 div.sk-label-container {text-align: center;}#sk-container-id-3 div.sk-container {/* jupyter's `normalize.less` sets `[hidden] { display: none; }` but bootstrap.min.css set `[hidden] { display: none !important; }` so we also need the `!important` here to be able to override the default hidden behavior on the sphinx rendered scikit-learn.org. See: https://github.com/scikit-learn/scikit-learn/issues/21755 */display: inline-block !important;position: relative;}#sk-container-id-3 div.sk-text-repr-fallback {display: none;}</style><div id=\"sk-container-id-3\" class=\"sk-top-container\"><div class=\"sk-text-repr-fallback\"><pre>GridSearchCV(cv=3, estimator=RandomForestClassifier(random_state=66), n_jobs=-1,\n",
       "             param_grid={&#x27;max_depth&#x27;: [10, 20, 30],\n",
       "                         &#x27;min_samples_leaf&#x27;: [1, 2, 4],\n",
       "                         &#x27;min_samples_split&#x27;: [2, 5, 10],\n",
       "                         &#x27;n_estimators&#x27;: [50, 100, 200, 300]},\n",
       "             verbose=2)</pre><b>In a Jupyter environment, please rerun this cell to show the HTML representation or trust the notebook. <br />On GitHub, the HTML representation is unable to render, please try loading this page with nbviewer.org.</b></div><div class=\"sk-container\" hidden><div class=\"sk-item sk-dashed-wrapped\"><div class=\"sk-label-container\"><div class=\"sk-label sk-toggleable\"><input class=\"sk-toggleable__control sk-hidden--visually\" id=\"sk-estimator-id-3\" type=\"checkbox\" ><label for=\"sk-estimator-id-3\" class=\"sk-toggleable__label sk-toggleable__label-arrow\">GridSearchCV</label><div class=\"sk-toggleable__content\"><pre>GridSearchCV(cv=3, estimator=RandomForestClassifier(random_state=66), n_jobs=-1,\n",
       "             param_grid={&#x27;max_depth&#x27;: [10, 20, 30],\n",
       "                         &#x27;min_samples_leaf&#x27;: [1, 2, 4],\n",
       "                         &#x27;min_samples_split&#x27;: [2, 5, 10],\n",
       "                         &#x27;n_estimators&#x27;: [50, 100, 200, 300]},\n",
       "             verbose=2)</pre></div></div></div><div class=\"sk-parallel\"><div class=\"sk-parallel-item\"><div class=\"sk-item\"><div class=\"sk-label-container\"><div class=\"sk-label sk-toggleable\"><input class=\"sk-toggleable__control sk-hidden--visually\" id=\"sk-estimator-id-4\" type=\"checkbox\" ><label for=\"sk-estimator-id-4\" class=\"sk-toggleable__label sk-toggleable__label-arrow\">estimator: RandomForestClassifier</label><div class=\"sk-toggleable__content\"><pre>RandomForestClassifier(random_state=66)</pre></div></div></div><div class=\"sk-serial\"><div class=\"sk-item\"><div class=\"sk-estimator sk-toggleable\"><input class=\"sk-toggleable__control sk-hidden--visually\" id=\"sk-estimator-id-5\" type=\"checkbox\" ><label for=\"sk-estimator-id-5\" class=\"sk-toggleable__label sk-toggleable__label-arrow\">RandomForestClassifier</label><div class=\"sk-toggleable__content\"><pre>RandomForestClassifier(random_state=66)</pre></div></div></div></div></div></div></div></div></div></div>"
      ],
      "text/plain": [
       "GridSearchCV(cv=3, estimator=RandomForestClassifier(random_state=66), n_jobs=-1,\n",
       "             param_grid={'max_depth': [10, 20, 30],\n",
       "                         'min_samples_leaf': [1, 2, 4],\n",
       "                         'min_samples_split': [2, 5, 10],\n",
       "                         'n_estimators': [50, 100, 200, 300]},\n",
       "             verbose=2)"
      ]
     },
     "execution_count": 21,
     "metadata": {},
     "output_type": "execute_result"
    }
   ],
   "source": [
    "#define grid of hyperparameters\n",
    "param_grid = {\n",
    "    'n_estimators': [50, 100, 200, 300],\n",
    "    'max_depth': [10, 20, 30],\n",
    "    'min_samples_leaf': [1, 2, 4],\n",
    "    'min_samples_split': [2, 5, 10]\n",
    "}\n",
    "\n",
    "#initialize fresh model\n",
    "model = RandomForestClassifier(random_state=66)\n",
    "\n",
    "#initialize GridSearchCV\n",
    "grid_search = GridSearchCV(estimator=model, param_grid=param_grid, cv=3, n_jobs=-1, verbose=2)\n",
    "\n",
    "#fit GridSearchCV\n",
    "grid_search.fit(X_train_top12, y_train)"
   ]
  },
  {
   "cell_type": "code",
   "execution_count": 22,
   "metadata": {},
   "outputs": [
    {
     "name": "stdout",
     "output_type": "stream",
     "text": [
      "{'max_depth': 20, 'min_samples_leaf': 2, 'min_samples_split': 10, 'n_estimators': 300}\n",
      "Accuracy: 0.7433373805756895\n",
      "[[72375 17257]\n",
      " [24598 48844]]\n"
     ]
    }
   ],
   "source": [
    "#get best parameters\n",
    "best_params = grid_search.best_params_\n",
    "print(best_params)\n",
    "\n",
    "#get best model\n",
    "best_model = grid_search.best_estimator_\n",
    "\n",
    "#predict on test data\n",
    "y_pred = best_model.predict(X_test_top12)\n",
    "\n",
    "#calculate accuracy\n",
    "acc = accuracy(y_test, y_pred)\n",
    "print(f'Accuracy: {acc}')\n",
    "\n",
    "#confusion matrix\n",
    "cm = confusion_matrix(y_test, y_pred)\n",
    "print(cm)"
   ]
  },
  {
   "cell_type": "code",
   "execution_count": 28,
   "metadata": {},
   "outputs": [
    {
     "data": {
      "image/png": "[encoded data removed]",
      "text/plain": [
       "<Figure size 640x480 with 2 Axes>"
      ]
     },
     "metadata": {},
     "output_type": "display_data"
    }
   ],
   "source": [
    "#print confusion matrix with seaborn\n",
    "import seaborn as sns\n",
    "import matplotlib.pyplot as plt\n",
    "sns.heatmap(cm, annot=True, fmt='d')\n",
    "plt.title('Confusion Matrix')\n",
    "plt.xlabel('Predicted')\n",
    "plt.ylabel('Actual')\n",
    "\n",
    "plt.show()"
   ]
  },
  {
   "cell_type": "code",
   "execution_count": 31,
   "metadata": {},
   "outputs": [
    {
     "name": "stdout",
     "output_type": "stream",
     "text": [
      "Included Features with Importances: \n",
      "Bene_Male_Cnt: 0.06409294153145405\n",
      "Tot_Sbmtd_Chrg: 0.05177767777707465\n",
      "is_NP: 0.04839365414068573\n",
      "Tot_Mdcr_Pymt_Amt: 0.04566028914863172\n",
      "Tot_HCPCS_Cds: 0.04405775794775063\n",
      "Bene_Feml_Cnt: 0.04188143264329343\n",
      "has_MD: 0.03459707459833855\n",
      "Bene_Avg_Risk_Scre: 0.034446761280901635\n",
      "Med_Tot_Srvcs: 0.033138775740439344\n",
      "Med_Tot_Benes: 0.03270352150676463\n",
      "Tot_Benes: 0.03216781866674617\n",
      "Tot_Srvcs: 0.03195137345214567\n"
     ]
    }
   ],
   "source": [
    "#print the included features with their importances in descending order\n",
    "sorted_indices = np.argsort(importances[indices])[::-1]\n",
    "sorted_features = [top_features[i] for i in sorted_indices]\n",
    "sorted_importances = [importances[indices[i]] for i in sorted_indices]\n",
    "\n",
    "print('Included Features with Importances: ')\n",
    "for i in range(len(sorted_features)):\n",
    "    print(f'{sorted_features[i]}: {sorted_importances[i]}')"
   ]
  },
  {
   "cell_type": "code",
   "execution_count": 25,
   "metadata": {},
   "outputs": [
    {
     "name": "stdout",
     "output_type": "stream",
     "text": [
      "Rndrng_Prvdr_RUCA: [1.0, 1.1, 2.0, 2.1, 3.0, 4.0, 4.1, 5.0, 5.1, 6.0, 7.0, 7.1, 7.2, 8.0, 8.1, 8.2, 9.0, 10.0, 10.1, 10.2, 10.3, 99.0]\n",
      "Rndrng_Prvdr_State_Abrvtn: ['AK', 'AL', 'AR', 'AZ', 'CA', 'CO', 'CT', 'DE', 'FL', 'GA', 'HI', 'IA', 'ID', 'IL', 'IN', 'KS', 'KY', 'LA', 'MA', 'MD', 'ME', 'MI', 'MN', 'MO', 'MS', 'MT', 'NC', 'ND', 'NE', 'NH', 'NJ', 'NM', 'NV', 'NY', 'OH', 'OK', 'OR', 'PA', 'RI', 'SC', 'SD', 'TN', 'TX', 'UT', 'VA', 'VT', 'WA', 'WI', 'WV', 'WY']\n",
      "has_MD: [0, 1]\n",
      "has_DO: [0, 1]\n",
      "is_NP: [0, 1]\n",
      "is_PA: [0, 1]\n",
      "flag_not_MD_DO_NP_PA: [False, True]\n"
     ]
    }
   ],
   "source": [
    "#print the encoding for the included categorical features\n",
    "for feature in categorical_features:\n",
    "    print(f'{feature}: {list(label_encoders[feature].classes_)}')\n"
   ]
  },
  {
   "cell_type": "markdown",
   "metadata": {},
   "source": [
    "One observation: Use of any specific preventive care procedure or immunization was not in the top 12 features on which this model was focused."
   ]
  },
  {
   "cell_type": "code",
   "execution_count": 26,
   "metadata": {},
   "outputs": [],
   "source": [
    "#save the model\n",
    "pkl.dump(best_model, open('model.pkl', 'wb'))"
   ]
  }
 ],
 "metadata": {
  "kernelspec": {
   "display_name": "Python 3",
   "language": "python",
   "name": "python3"
  },
  "language_info": {
   "codemirror_mode": {
    "name": "ipython",
    "version": 3
   },
   "file_extension": ".py",
   "mimetype": "text/x-python",
   "name": "python",
   "nbconvert_exporter": "python",
   "pygments_lexer": "ipython3",
   "version": "3.11.5"
  }
 },
 "nbformat": 4,
 "nbformat_minor": 2
}
